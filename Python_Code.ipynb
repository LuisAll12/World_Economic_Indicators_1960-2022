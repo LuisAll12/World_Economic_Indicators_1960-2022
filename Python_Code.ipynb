{
 "cells": [
  {
   "cell_type": "code",
   "execution_count": 1,
   "metadata": {},
   "outputs": [],
   "source": [
    "import numpy as np # linear algebra\n",
    "import pandas as pd # data processing, CSV file I/O (e.g. pd.read_csv)\n",
    "import matplotlib.pyplot as plt\n",
    "import seaborn as sns\n",
    "\n",
    "import os\n",
    "for dirname, _, filenames in os.walk('/kaggle/input'):\n",
    "    for filename in filenames:\n",
    "        print(os.path.join(dirname, filename))"
   ]
  },
  {
   "cell_type": "code",
   "execution_count": 4,
   "metadata": {},
   "outputs": [],
   "source": [
    "data = pd.read_csv('./world_economic_indicators.csv')"
   ]
  },
  {
   "cell_type": "code",
   "execution_count": null,
   "metadata": {},
   "outputs": [
    {
     "name": "stdout",
     "output_type": "stream",
     "text": [
      "<class 'pandas.core.frame.DataFrame'>\n",
      "RangeIndex: 16758 entries, 0 to 16757\n",
      "Data columns (total 9 columns):\n",
      " #   Column                                        Non-Null Count  Dtype  \n",
      "---  ------                                        --------------  -----  \n",
      " 0   Country Name                                  16758 non-null  object \n",
      " 1   Country Code                                  16758 non-null  object \n",
      " 2   Year                                          16758 non-null  int64  \n",
      " 3   Personal remittances, received (% of GDP)     8817 non-null   float64\n",
      " 4   Unemployment, total (% of total labor force)  7512 non-null   float64\n",
      " 5   GDP (current US$)_x                           13365 non-null  float64\n",
      " 6   GDP growth (annual %)_x                       12731 non-null  float64\n",
      " 7   GDP (current US$)_y                           13365 non-null  float64\n",
      " 8   GDP growth (annual %)_y                       12731 non-null  float64\n",
      "dtypes: float64(6), int64(1), object(2)\n",
      "memory usage: 1.2+ MB\n",
      "None\n"
     ]
    }
   ],
   "source": [
    "# Display basic information about the dataset\n",
    "print(data.info())"
   ]
  },
  {
   "cell_type": "code",
   "execution_count": 6,
   "metadata": {},
   "outputs": [
    {
     "name": "stdout",
     "output_type": "stream",
     "text": [
      "               Year  Personal remittances, received (% of GDP)  \\\n",
      "count  16758.000000                                8817.000000   \n",
      "mean    1991.000000                                   3.687891   \n",
      "std       18.184785                                   9.373359   \n",
      "min     1960.000000                                   0.000000   \n",
      "25%     1975.000000                                   0.335264   \n",
      "50%     1991.000000                                   1.282325   \n",
      "75%     2007.000000                                   3.787074   \n",
      "max     2022.000000                                 235.927991   \n",
      "\n",
      "       Unemployment, total (% of total labor force)  GDP (current US$)_x  \\\n",
      "count                                   7512.000000         1.336500e+04   \n",
      "mean                                       7.880116         1.206986e+12   \n",
      "std                                        5.524284         5.412748e+12   \n",
      "min                                        0.095000         8.824746e+06   \n",
      "25%                                        4.110000         2.523472e+09   \n",
      "50%                                        6.386298         1.842778e+10   \n",
      "75%                                       10.314750         2.243840e+11   \n",
      "max                                       38.800000         1.005620e+14   \n",
      "\n",
      "       GDP growth (annual %)_x  GDP (current US$)_y  GDP growth (annual %)_y  \n",
      "count             12731.000000         1.336500e+04             12731.000000  \n",
      "mean                  3.681001         1.206986e+12                 3.681001  \n",
      "std                   5.841943         5.412748e+12                 5.841943  \n",
      "min                 -64.047107         8.824746e+06               -64.047107  \n",
      "25%                   1.461297         2.523472e+09                 1.461297  \n",
      "50%                   3.818608         1.842778e+10                 3.818608  \n",
      "75%                   6.080175         2.243840e+11                 6.080175  \n",
      "max                 149.972963         1.005620e+14               149.972963  \n"
     ]
    }
   ],
   "source": [
    "# Display summary statistics\n",
    "print(data.describe())"
   ]
  },
  {
   "cell_type": "code",
   "execution_count": null,
   "metadata": {},
   "outputs": [],
   "source": [
    "# Remove rows with NaN values in a specific column\n",
    "data_cleaned = data.dropna(subset=['GDP (current US$)_x'])"
   ]
  },
  {
   "cell_type": "code",
   "execution_count": 9,
   "metadata": {},
   "outputs": [
    {
     "name": "stderr",
     "output_type": "stream",
     "text": [
      "C:\\Users\\41783\\AppData\\Local\\Temp\\ipykernel_16460\\4292508927.py:3: FutureWarning: A value is trying to be set on a copy of a DataFrame or Series through chained assignment using an inplace method.\n",
      "The behavior will change in pandas 3.0. This inplace method will never work because the intermediate object on which we are setting values always behaves as a copy.\n",
      "\n",
      "For example, when doing 'df[col].method(value, inplace=True)', try using 'df.method({col: value}, inplace=True)' or df[col] = df[col].method(value) instead, to perform the operation inplace on the original object.\n",
      "\n",
      "\n",
      "  data['GDP (current US$)_x'].fillna(mean_gdp, inplace=True)\n"
     ]
    }
   ],
   "source": [
    "# Fill NaN values in a column with the mean of that column\n",
    "mean_gdp = data['GDP (current US$)_x'].mean()\n",
    "data['GDP (current US$)_x'].fillna(mean_gdp, inplace=True)"
   ]
  },
  {
   "cell_type": "code",
   "execution_count": 11,
   "metadata": {},
   "outputs": [
    {
     "name": "stderr",
     "output_type": "stream",
     "text": [
      "C:\\Users\\41783\\AppData\\Local\\Temp\\ipykernel_16460\\4258273198.py:2: FutureWarning: A value is trying to be set on a copy of a DataFrame or Series through chained assignment using an inplace method.\n",
      "The behavior will change in pandas 3.0. This inplace method will never work because the intermediate object on which we are setting values always behaves as a copy.\n",
      "\n",
      "For example, when doing 'df[col].method(value, inplace=True)', try using 'df.method({col: value}, inplace=True)' or df[col] = df[col].method(value) instead, to perform the operation inplace on the original object.\n",
      "\n",
      "\n",
      "  data['GDP (current US$)_x'].fillna(method='ffill', inplace=True)\n",
      "C:\\Users\\41783\\AppData\\Local\\Temp\\ipykernel_16460\\4258273198.py:2: FutureWarning: Series.fillna with 'method' is deprecated and will raise in a future version. Use obj.ffill() or obj.bfill() instead.\n",
      "  data['GDP (current US$)_x'].fillna(method='ffill', inplace=True)\n"
     ]
    }
   ],
   "source": [
    "# Forward fill NaN values in a column\n",
    "data['GDP (current US$)_x'].fillna(method='ffill', inplace=True)"
   ]
  },
  {
   "cell_type": "code",
   "execution_count": 12,
   "metadata": {},
   "outputs": [
    {
     "name": "stderr",
     "output_type": "stream",
     "text": [
      "C:\\Users\\41783\\AppData\\Local\\Temp\\ipykernel_16460\\1319832920.py:2: FutureWarning: A value is trying to be set on a copy of a DataFrame or Series through chained assignment using an inplace method.\n",
      "The behavior will change in pandas 3.0. This inplace method will never work because the intermediate object on which we are setting values always behaves as a copy.\n",
      "\n",
      "For example, when doing 'df[col].method(value, inplace=True)', try using 'df.method({col: value}, inplace=True)' or df[col] = df[col].method(value) instead, to perform the operation inplace on the original object.\n",
      "\n",
      "\n",
      "  data['GDP (current US$)_x'].interpolate(method='linear', inplace=True)\n"
     ]
    }
   ],
   "source": [
    "# Interpolate NaN values in a column using linear interpolation\n",
    "data['GDP (current US$)_x'].interpolate(method='linear', inplace=True)"
   ]
  },
  {
   "cell_type": "code",
   "execution_count": 13,
   "metadata": {},
   "outputs": [
    {
     "name": "stdout",
     "output_type": "stream",
     "text": [
      "                  Country Name Country Code  Year  \\\n",
      "0                        Aruba          ABW  1960   \n",
      "1  Africa Eastern and Southern          AFE  1960   \n",
      "2                  Afghanistan          AFG  1960   \n",
      "3   Africa Western and Central          AFW  1960   \n",
      "4                       Angola          AGO  1960   \n",
      "\n",
      "   Personal remittances, received (% of GDP)  \\\n",
      "0                                        NaN   \n",
      "1                                        NaN   \n",
      "2                                        NaN   \n",
      "3                                        NaN   \n",
      "4                                        NaN   \n",
      "\n",
      "   Unemployment, total (% of total labor force)  GDP (current US$)_x  \\\n",
      "0                                           NaN         1.206986e+12   \n",
      "1                                           NaN         2.112502e+10   \n",
      "2                                           NaN         5.377778e+08   \n",
      "3                                           NaN         1.044764e+10   \n",
      "4                                           NaN         1.206986e+12   \n",
      "\n",
      "   GDP growth (annual %)_x  GDP (current US$)_y  GDP growth (annual %)_y  \n",
      "0                      NaN                  NaN                      NaN  \n",
      "1                      NaN         2.112502e+10                      NaN  \n",
      "2                      NaN         5.377778e+08                      NaN  \n",
      "3                      NaN         1.044764e+10                      NaN  \n",
      "4                      NaN                  NaN                      NaN  \n"
     ]
    }
   ],
   "source": [
    "# Preview the first few rows of the dataset\n",
    "print(data.head())"
   ]
  }
 ],
 "metadata": {
  "kernelspec": {
   "display_name": "Python 3",
   "language": "python",
   "name": "python3"
  },
  "language_info": {
   "codemirror_mode": {
    "name": "ipython",
    "version": 3
   },
   "file_extension": ".py",
   "mimetype": "text/x-python",
   "name": "python",
   "nbconvert_exporter": "python",
   "pygments_lexer": "ipython3",
   "version": "3.12.2"
  }
 },
 "nbformat": 4,
 "nbformat_minor": 2
}
