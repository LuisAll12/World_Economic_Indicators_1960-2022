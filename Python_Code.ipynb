{
 "cells": [
  {
   "cell_type": "code",
   "execution_count": 1,
   "metadata": {},
   "outputs": [],
   "source": [
    "import numpy as np # linear algebra\n",
    "import pandas as pd # data processing, CSV file I/O (e.g. pd.read_csv)\n",
    "import matplotlib.pyplot as plt\n",
    "import seaborn as sns\n",
    "\n",
    "import os\n",
    "for dirname, _, filenames in os.walk('/kaggle/input'):\n",
    "    for filename in filenames:\n",
    "        print(os.path.join(dirname, filename))"
   ]
  },
  {
   "cell_type": "code",
   "execution_count": 4,
   "metadata": {},
   "outputs": [],
   "source": [
    "data = pd.read_csv('./world_economic_indicators.csv')"
   ]
  },
  {
   "cell_type": "code",
   "execution_count": null,
   "metadata": {},
   "outputs": [
    {
     "name": "stdout",
     "output_type": "stream",
     "text": [
      "<class 'pandas.core.frame.DataFrame'>\n",
      "RangeIndex: 16758 entries, 0 to 16757\n",
      "Data columns (total 9 columns):\n",
      " #   Column                                        Non-Null Count  Dtype  \n",
      "---  ------                                        --------------  -----  \n",
      " 0   Country Name                                  16758 non-null  object \n",
      " 1   Country Code                                  16758 non-null  object \n",
      " 2   Year                                          16758 non-null  int64  \n",
      " 3   Personal remittances, received (% of GDP)     8817 non-null   float64\n",
      " 4   Unemployment, total (% of total labor force)  7512 non-null   float64\n",
      " 5   GDP (current US$)_x                           13365 non-null  float64\n",
      " 6   GDP growth (annual %)_x                       12731 non-null  float64\n",
      " 7   GDP (current US$)_y                           13365 non-null  float64\n",
      " 8   GDP growth (annual %)_y                       12731 non-null  float64\n",
      "dtypes: float64(6), int64(1), object(2)\n",
      "memory usage: 1.2+ MB\n",
      "None\n"
     ]
    }
   ],
   "source": [
    "# Display basic information about the dataset\n",
    "print(data.info())"
   ]
  },
  {
   "cell_type": "code",
   "execution_count": 6,
   "metadata": {},
   "outputs": [
    {
     "name": "stdout",
     "output_type": "stream",
     "text": [
      "               Year  Personal remittances, received (% of GDP)  \\\n",
      "count  16758.000000                                8817.000000   \n",
      "mean    1991.000000                                   3.687891   \n",
      "std       18.184785                                   9.373359   \n",
      "min     1960.000000                                   0.000000   \n",
      "25%     1975.000000                                   0.335264   \n",
      "50%     1991.000000                                   1.282325   \n",
      "75%     2007.000000                                   3.787074   \n",
      "max     2022.000000                                 235.927991   \n",
      "\n",
      "       Unemployment, total (% of total labor force)  GDP (current US$)_x  \\\n",
      "count                                   7512.000000         1.336500e+04   \n",
      "mean                                       7.880116         1.206986e+12   \n",
      "std                                        5.524284         5.412748e+12   \n",
      "min                                        0.095000         8.824746e+06   \n",
      "25%                                        4.110000         2.523472e+09   \n",
      "50%                                        6.386298         1.842778e+10   \n",
      "75%                                       10.314750         2.243840e+11   \n",
      "max                                       38.800000         1.005620e+14   \n",
      "\n",
      "       GDP growth (annual %)_x  GDP (current US$)_y  GDP growth (annual %)_y  \n",
      "count             12731.000000         1.336500e+04             12731.000000  \n",
      "mean                  3.681001         1.206986e+12                 3.681001  \n",
      "std                   5.841943         5.412748e+12                 5.841943  \n",
      "min                 -64.047107         8.824746e+06               -64.047107  \n",
      "25%                   1.461297         2.523472e+09                 1.461297  \n",
      "50%                   3.818608         1.842778e+10                 3.818608  \n",
      "75%                   6.080175         2.243840e+11                 6.080175  \n",
      "max                 149.972963         1.005620e+14               149.972963  \n"
     ]
    }
   ],
   "source": [
    "# Display summary statistics\n",
    "print(data.describe())"
   ]
  }
 ],
 "metadata": {
  "kernelspec": {
   "display_name": "Python 3",
   "language": "python",
   "name": "python3"
  },
  "language_info": {
   "codemirror_mode": {
    "name": "ipython",
    "version": 3
   },
   "file_extension": ".py",
   "mimetype": "text/x-python",
   "name": "python",
   "nbconvert_exporter": "python",
   "pygments_lexer": "ipython3",
   "version": "3.12.2"
  }
 },
 "nbformat": 4,
 "nbformat_minor": 2
}
